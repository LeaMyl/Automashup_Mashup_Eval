{
 "cells": [
  {
   "cell_type": "code",
   "execution_count": 70,
   "metadata": {},
   "outputs": [
    {
     "name": "stdout",
     "output_type": "stream",
     "text": [
      "Index(['vocals', 'instrumental', 'score'], dtype='object')\n"
     ]
    }
   ],
   "source": [
    "import numpy as np\n",
    "import torch\n",
    "import matplotlib.pyplot as plt\n",
    "import pandas as pd\n",
    "from sklearn.metrics.pairwise import cosine_similarity\n",
    "\n",
    "# Load embeddings\n",
    "clap_embeddings = np.load(\"./audio_embeddings_clap.npy\", allow_pickle=True).item()\n",
    "mert_embeddings = np.load(\"./audio_embeddings_mert.npy\", allow_pickle=True).item()\n",
    "\n",
    "# Load Cocola scores from CSV\n",
    "cocola_scores_df = pd.read_csv(\"./cocola_scores.csv\")\n",
    "\n",
    "# Colonnes de cocola\n",
    "cocola_columns = cocola_scores_df.columns\n",
    "print(cocola_columns)\n",
    "\n"
   ]
  },
  {
   "cell_type": "code",
   "execution_count": 71,
   "metadata": {},
   "outputs": [
    {
     "name": "stdout",
     "output_type": "stream",
     "text": [
      "<class 'numpy.ndarray'>\n",
      "<class 'dict'>\n",
      "Nouvelle forme de la matrice d'embeddings : (42, 512)\n"
     ]
    }
   ],
   "source": [
    "embedding_matrix_clap = np.load(\"./audio_embeddings_clap.npy\", allow_pickle=True)\n",
    "print(type(embedding_matrix_clap))\n",
    "embedding_matrix_clap = embedding_matrix_clap.item()\n",
    "print(type(embedding_matrix_clap))\n",
    "file_names = list(embedding_matrix_clap.keys())\n",
    "\n",
    "\n",
    "# Récupère les vecteurs d'embedding (valeurs du dictionnaire)\n",
    "embeddings_list_clap = list(embedding_matrix_clap.values())\n",
    "embedding_matrix_clap = np.vstack(embeddings_list_clap)  # Combine les vecteurs en une matrice\n",
    "print(f\"Nouvelle forme de la matrice d'embeddings : {embedding_matrix_clap.shape}\")"
   ]
  },
  {
   "cell_type": "code",
   "execution_count": 72,
   "metadata": {},
   "outputs": [
    {
     "name": "stdout",
     "output_type": "stream",
     "text": [
      "<class 'numpy.ndarray'>\n",
      "<class 'dict'>\n",
      "Nouvelle forme de la matrice d'embeddings : (42, 768)\n"
     ]
    }
   ],
   "source": [
    "embedding_matrix_mert = np.load(\"./audio_embeddings_mert.npy\", allow_pickle=True)\n",
    "print(type(embedding_matrix_mert))\n",
    "embedding_matrix_mert = embedding_matrix_mert.item()\n",
    "print(type(embedding_matrix_mert))\n",
    "file_names = list(embedding_matrix_mert.keys())\n",
    "\n",
    "\n",
    "# Récupère les vecteurs d'embedding (valeurs du dictionnaire)\n",
    "embeddings_list_mert = list(embedding_matrix_mert.values())\n",
    "embedding_matrix_mert = np.vstack(embeddings_list_mert)  # Combine les vecteurs en une matrice\n",
    "print(f\"Nouvelle forme de la matrice d'embeddings : {embedding_matrix_mert.shape}\")"
   ]
  },
  {
   "cell_type": "code",
   "execution_count": 73,
   "metadata": {},
   "outputs": [
    {
     "name": "stdout",
     "output_type": "stream",
     "text": [
      "Forme de la matrice de similarité cosinus : (42, 42)\n",
      "[[1.0000002  0.34097084 0.83422333 0.5616863  0.65733886]\n",
      " [0.34097084 1.0000002  0.16409242 0.5731591  0.15953967]\n",
      " [0.83422333 0.16409242 0.99999994 0.4414206  0.6725746 ]\n",
      " [0.5616863  0.5731591  0.4414206  1.0000004  0.38131076]\n",
      " [0.65733886 0.15953967 0.6725746  0.38131076 0.9999998 ]]\n"
     ]
    }
   ],
   "source": [
    "# Calculer la matrice de similarité cosinus\n",
    "cosine_sim_matrixc = cosine_similarity(embedding_matrix_clap)\n",
    "\n",
    "# Afficher la forme de la matrice (N, N) et un aperçu\n",
    "print(f\"Forme de la matrice de similarité cosinus : {cosine_sim_matrixc.shape}\")\n",
    "print(cosine_sim_matrixc[:5, :5])  # Afficher les 5 premières lignes et colonnes\n",
    "\n"
   ]
  },
  {
   "cell_type": "code",
   "execution_count": 74,
   "metadata": {},
   "outputs": [
    {
     "name": "stdout",
     "output_type": "stream",
     "text": [
      "Forme de la matrice de similarité cosinus : (42, 42)\n",
      "[[ 0.99999994 -0.92627406  0.66491747 -0.76870966  0.03508142]\n",
      " [-0.92627406  1.         -0.7857152   0.83416104  0.14618175]\n",
      " [ 0.66491747 -0.7857152   1.0000001  -0.54862237 -0.5991662 ]\n",
      " [-0.76870966  0.83416104 -0.54862237  1.          0.02676624]\n",
      " [ 0.03508142  0.14618175 -0.5991662   0.02676624  0.9999999 ]]\n"
     ]
    }
   ],
   "source": [
    "# Calculer la matrice de similarité cosinus\n",
    "cosine_sim_matrixm = cosine_similarity(embedding_matrix_mert)\n",
    "\n",
    "# Afficher la forme de la matrice (N, N) et un aperçu\n",
    "print(f\"Forme de la matrice de similarité cosinus : {cosine_sim_matrixm.shape}\")\n",
    "print(cosine_sim_matrixm[:5, :5])  # Afficher les 5 premières lignes et colonnes"
   ]
  },
  {
   "cell_type": "code",
   "execution_count": 75,
   "metadata": {},
   "outputs": [],
   "source": [
    "# On suppose que `cocola` est un DataFrame avec les colonnes ['vocals', 'instrumental', 'score']\n",
    "import pandas as pd\n",
    "import numpy as np\n",
    "\n",
    "# Supposons que `cosine_sim_matrixc` est une matrice numpy (42x42 par exemple)\n",
    "\n",
    "# Extraction des valeurs de similarité pour vocals (21 premières lignes et colonnes)\n",
    "vocals_similarity = cosine_sim_matrixc[21:42, 21:42]  # 21x21\n",
    "\n",
    "# Ajout des valeurs de similarité dans le DataFrame cocola\n",
    "similarity_values = []\n",
    "for i in range(21):  # Pour chaque vocal (21 premières lignes)\n",
    "    for j in range(21):  # Correspondant aux instrumentals (21 suivantes)\n",
    "        similarity_values.append(vocals_similarity[i, j])\n",
    "\n",
    "# Ajout de la nouvelle colonne\n",
    "cocola_scores_df[\"CLAP\"] = similarity_values\n",
    "\n",
    "\n"
   ]
  },
  {
   "cell_type": "code",
   "execution_count": 76,
   "metadata": {},
   "outputs": [
    {
     "name": "stdout",
     "output_type": "stream",
     "text": [
      "           vocals                                      instrumental  \\\n",
      "0  Bam Bam - Hi-Q                                    Bam Bam - Hi-Q   \n",
      "1  Bam Bam - Hi-Q  Benji Cossa - New Flowers (Fast 4-track Version)   \n",
      "2  Bam Bam - Hi-Q               Bessie Smith - My Sweetie Went Away   \n",
      "3  Bam Bam - Hi-Q             David Rovics - We Just Want The World   \n",
      "4  Bam Bam - Hi-Q                   deef - Ein sonniger Tag mit dir   \n",
      "\n",
      "       score      CLAP  \n",
      "0  45.754675  1.000000  \n",
      "1  46.145325  0.255522  \n",
      "2  44.335644  0.630813  \n",
      "3  46.341496  0.289742  \n",
      "4  43.764599  0.459481  \n"
     ]
    }
   ],
   "source": [
    "print(cocola_scores_df.head())"
   ]
  },
  {
   "cell_type": "code",
   "execution_count": 77,
   "metadata": {},
   "outputs": [
    {
     "name": "stdout",
     "output_type": "stream",
     "text": [
      "vocals          0\n",
      "instrumental    0\n",
      "score           0\n",
      "CLAP            0\n",
      "dtype: int64\n"
     ]
    }
   ],
   "source": [
    "#null values\n",
    "print(cocola_scores_df.isnull().sum())"
   ]
  },
  {
   "cell_type": "code",
   "execution_count": 87,
   "metadata": {},
   "outputs": [
    {
     "name": "stdout",
     "output_type": "stream",
     "text": [
      "Corrélation entre les scores et les valeurs de similarité : 0.05109174349230319\n",
      "Corrélation de Spearman entre les scores et les valeurs de similarité : 0.07905827255516565\n",
      "Corrélation de Kendall entre les scores et les valeurs de similarité : 0.05312077256961182\n"
     ]
    }
   ],
   "source": [
    "# Normalisation et centrage des valeurs de score\n",
    "cocola_scores_df[\"normalized_score\"] = (cocola_scores_df[\"score\"] - cocola_scores_df[\"score\"].mean()) / cocola_scores_df[\"score\"].std()\n",
    "cocola_scores_df[\"normalized_CLAP\"] = (cocola_scores_df[\"CLAP\"] - cocola_scores_df[\"CLAP\"].mean()) / cocola_scores_df[\"CLAP\"].std()\n",
    "\n",
    "# Calcul de la corrélation entre les scores normalisés et les valeurs de similarité\n",
    "correlation = cocola_scores_df[\"normalized_score\"].corr(cocola_scores_df[\"normalized_CLAP\"])\n",
    "print(f\"Corrélation entre les scores et les valeurs de similarité : {correlation}\")\n",
    "#calcul de la corrélation de Spearman\n",
    "correlation_spearman = cocola_scores_df[\"normalized_score\"].corr(cocola_scores_df[\"normalized_CLAP\"], method=\"spearman\")\n",
    "print(f\"Corrélation de Spearman entre les scores et les valeurs de similarité : {correlation_spearman}\")\n",
    "#calcul de la corrélation de Kendall\n",
    "correlation_kendall = cocola_scores_df[\"normalized_score\"].corr(cocola_scores_df[\"normalized_CLAP\"], method=\"kendall\")\n",
    "print(f\"Corrélation de Kendall entre les scores et les valeurs de similarité : {correlation_kendall}\")"
   ]
  },
  {
   "cell_type": "code",
   "execution_count": 79,
   "metadata": {},
   "outputs": [],
   "source": [
    "# Même chose pour MERT mais [:21, 21:42]\n",
    "# Extraction des valeurs de similarité pour vocals (21 premières lignes et colonnes)\n",
    "vocals_similaritym = cosine_sim_matrixm[:21, 21:42]  # 21x21\n",
    "\n",
    "mert_values = []\n",
    "for i in range(21):  # Pour chaque vocal (21 premières lignes)\n",
    "    for j in range(21):  # Correspondant aux instrumentals (21 suivantes)\n",
    "        mert_values.append(vocals_similaritym[i, j])\n",
    "\n",
    "# Ajout de la nouvelle colonne\n",
    "cocola_scores_df[\"MERT\"] = mert_values\n",
    "# Normalisation et centrage des valeurs de score\n",
    "cocola_scores_df[\"normalized_MERT\"] = (cocola_scores_df[\"MERT\"] - cocola_scores_df[\"MERT\"].mean()) / cocola_scores_df[\"MERT\"].std()"
   ]
  },
  {
   "cell_type": "code",
   "execution_count": 81,
   "metadata": {},
   "outputs": [
    {
     "name": "stdout",
     "output_type": "stream",
     "text": [
      "Corrélation entre les scores et les valeurs de similarité : -0.018302057090385595\n",
      "Corrélation de Spearman entre les scores et les valeurs de similarité : -0.016549836717903946\n",
      "Corrélation de Kendall entre les scores et les valeurs de similarité : -0.010327767470624612\n"
     ]
    }
   ],
   "source": [
    "# Calcul de la corrélation entre les scores normalisés et les valeurs de similarité\n",
    "correlation = cocola_scores_df[\"normalized_score\"].corr(cocola_scores_df[\"normalized_MERT\"])\n",
    "print(f\"Corrélation entre les scores et les valeurs de similarité : {correlation}\")\n",
    "\n",
    "# Calcul de la corrélation de Spearman\n",
    "spearman_correlation = cocola_scores_df[\"normalized_score\"].corr(cocola_scores_df[\"normalized_MERT\"], method=\"spearman\")\n",
    "print(f\"Corrélation de Spearman entre les scores et les valeurs de similarité : {spearman_correlation}\")\n",
    "\n",
    "# Calcul de la corrélation de kendall\n",
    "kendall_correlation = cocola_scores_df[\"normalized_score\"].corr(cocola_scores_df[\"normalized_MERT\"], method=\"kendall\")\n",
    "print(f\"Corrélation de Kendall entre les scores et les valeurs de similarité : {kendall_correlation}\")"
   ]
  },
  {
   "cell_type": "code",
   "execution_count": 82,
   "metadata": {},
   "outputs": [
    {
     "name": "stdout",
     "output_type": "stream",
     "text": [
      "Coefficient de régression : [0.0049813]\n",
      "Ordonnée à l'origine : 0.09516064020165937\n",
      "R² (coefficient de détermination) : 0.002610366414126264\n"
     ]
    }
   ],
   "source": [
    "from sklearn.linear_model import LinearRegression\n",
    "import numpy as np\n",
    "\n",
    "# Définition des variables indépendantes et dépendantes\n",
    "X = cocola_scores_df[\"score\"].values.reshape(-1, 1)  # X doit être en 2D\n",
    "y = cocola_scores_df[\"CLAP\"].values\n",
    "\n",
    "# Régression linéaire\n",
    "model = LinearRegression()\n",
    "model.fit(X, y)\n",
    "\n",
    "# Afficher les résultats\n",
    "print(f\"Coefficient de régression : {model.coef_}\")\n",
    "print(f\"Ordonnée à l'origine : {model.intercept_}\")\n",
    "print(f\"R² (coefficient de détermination) : {model.score(X, y)}\")\n",
    "\n"
   ]
  },
  {
   "cell_type": "code",
   "execution_count": 83,
   "metadata": {},
   "outputs": [
    {
     "name": "stdout",
     "output_type": "stream",
     "text": [
      "Coefficient de régression : [-0.01047648]\n",
      "Ordonnée à l'origine : -0.0036104229672720978\n",
      "R² (coefficient de détermination) : 0.0003349653416386822\n"
     ]
    }
   ],
   "source": [
    "from sklearn.linear_model import LinearRegression\n",
    "import numpy as np\n",
    "\n",
    "# Définition des variables indépendantes et dépendantes\n",
    "X = cocola_scores_df[\"normalized_score\"].values.reshape(-1, 1)  # X doit être en 2D\n",
    "y = cocola_scores_df[\"MERT\"].values\n",
    "\n",
    "# Régression linéaire\n",
    "model = LinearRegression()\n",
    "model.fit(X, y)\n",
    "\n",
    "# Afficher les résultats\n",
    "print(f\"Coefficient de régression : {model.coef_}\")\n",
    "print(f\"Ordonnée à l'origine : {model.intercept_}\")\n",
    "print(f\"R² (coefficient de détermination) : {model.score(X, y)}\")\n",
    "\n"
   ]
  },
  {
   "cell_type": "code",
   "execution_count": 84,
   "metadata": {},
   "outputs": [
    {
     "name": "stdout",
     "output_type": "stream",
     "text": [
      "                                 vocals  \\\n",
      "45  Bessie Smith - My Sweetie Went Away   \n",
      "56  Bessie Smith - My Sweetie Went Away   \n",
      "51  Bessie Smith - My Sweetie Went Away   \n",
      "43  Bessie Smith - My Sweetie Went Away   \n",
      "61  Bessie Smith - My Sweetie Went Away   \n",
      "52  Bessie Smith - My Sweetie Went Away   \n",
      "50  Bessie Smith - My Sweetie Went Away   \n",
      "53  Bessie Smith - My Sweetie Went Away   \n",
      "42  Bessie Smith - My Sweetie Went Away   \n",
      "54  Bessie Smith - My Sweetie Went Away   \n",
      "\n",
      "                                        instrumental      score      CLAP  \\\n",
      "45             David Rovics - We Just Want The World  58.303272  0.133987   \n",
      "56                    Short Hand - Certain Strangers  57.926910  0.470327   \n",
      "51                         Los Steaks - Sunday Girls  57.922951  0.218267   \n",
      "43  Benji Cossa - New Flowers (Fast 4-track Version)  57.745975  0.219688   \n",
      "61                             Wann - Happy Birthday  57.739521  0.238412   \n",
      "52                 Mia Doi Todd - I gave you my home  57.255163  0.666510   \n",
      "50                      Josh Woodward - Cien Volando  57.019594  0.736175   \n",
      "53                       Orange Peels - Grey Holiday  56.975786 -0.047664   \n",
      "42                                    Bam Bam - Hi-Q  56.972532  0.630813   \n",
      "54                            Poland - Lying Machine  56.819183  0.676378   \n",
      "\n",
      "    normalized_score  normalized_CLAP      MERT  normalized_MERT  \n",
      "45          2.383568        -0.728159  0.293283         0.518663  \n",
      "56          2.259610         0.408043 -0.420806        -0.728827  \n",
      "51          2.258306        -0.443450 -0.714084        -1.241173  \n",
      "43          2.200017        -0.438648 -0.537621        -0.932899  \n",
      "61          2.197892        -0.375395  0.628150         1.103664  \n",
      "52          2.038364         1.070777  0.577036         1.014370  \n",
      "50          1.960777         1.306114 -0.577259        -1.002144  \n",
      "53          1.946349        -1.341800 -0.855690        -1.488554  \n",
      "42          1.945277         0.950187  0.852813         1.496143  \n",
      "54          1.894770         1.104111 -0.806422        -1.402485  \n"
     ]
    }
   ],
   "source": [
    "# afficher top 10 des scores\n",
    "top10 = cocola_scores_df.sort_values(by=\"score\", ascending=False).head(10)\n",
    "print(top10)"
   ]
  },
  {
   "cell_type": "code",
   "execution_count": 85,
   "metadata": {},
   "outputs": [],
   "source": [
    "# sauver le csv\n",
    "cocola_scores_df.to_csv(\"mesures_mashups.csv\", index=False)"
   ]
  },
  {
   "cell_type": "code",
   "execution_count": 86,
   "metadata": {},
   "outputs": [
    {
     "name": "stdout",
     "output_type": "stream",
     "text": [
      "Top 10 des scores :\n",
      "                                 vocals  \\\n",
      "45  Bessie Smith - My Sweetie Went Away   \n",
      "56  Bessie Smith - My Sweetie Went Away   \n",
      "51  Bessie Smith - My Sweetie Went Away   \n",
      "43  Bessie Smith - My Sweetie Went Away   \n",
      "61  Bessie Smith - My Sweetie Went Away   \n",
      "52  Bessie Smith - My Sweetie Went Away   \n",
      "50  Bessie Smith - My Sweetie Went Away   \n",
      "53  Bessie Smith - My Sweetie Went Away   \n",
      "42  Bessie Smith - My Sweetie Went Away   \n",
      "54  Bessie Smith - My Sweetie Went Away   \n",
      "\n",
      "                                        instrumental      score      CLAP  \\\n",
      "45             David Rovics - We Just Want The World  58.303272  0.133987   \n",
      "56                    Short Hand - Certain Strangers  57.926910  0.470327   \n",
      "51                         Los Steaks - Sunday Girls  57.922951  0.218267   \n",
      "43  Benji Cossa - New Flowers (Fast 4-track Version)  57.745975  0.219688   \n",
      "61                             Wann - Happy Birthday  57.739521  0.238412   \n",
      "52                 Mia Doi Todd - I gave you my home  57.255163  0.666510   \n",
      "50                      Josh Woodward - Cien Volando  57.019594  0.736175   \n",
      "53                       Orange Peels - Grey Holiday  56.975786 -0.047664   \n",
      "42                                    Bam Bam - Hi-Q  56.972532  0.630813   \n",
      "54                            Poland - Lying Machine  56.819183  0.676378   \n",
      "\n",
      "    normalized_score  normalized_CLAP      MERT  normalized_MERT  \n",
      "45          2.383568        -0.728159  0.293283         0.518663  \n",
      "56          2.259610         0.408043 -0.420806        -0.728827  \n",
      "51          2.258306        -0.443450 -0.714084        -1.241173  \n",
      "43          2.200017        -0.438648 -0.537621        -0.932899  \n",
      "61          2.197892        -0.375395  0.628150         1.103664  \n",
      "52          2.038364         1.070777  0.577036         1.014370  \n",
      "50          1.960777         1.306114 -0.577259        -1.002144  \n",
      "53          1.946349        -1.341800 -0.855690        -1.488554  \n",
      "42          1.945277         0.950187  0.852813         1.496143  \n",
      "54          1.894770         1.104111 -0.806422        -1.402485  \n",
      "\n",
      "Bottom 10 des scores :\n",
      "                              vocals  \\\n",
      "99   deef - Ein sonniger Tag mit dir   \n",
      "100  deef - Ein sonniger Tag mit dir   \n",
      "97   deef - Ein sonniger Tag mit dir   \n",
      "16                    Bam Bam - Hi-Q   \n",
      "86   deef - Ein sonniger Tag mit dir   \n",
      "102  deef - Ein sonniger Tag mit dir   \n",
      "89   deef - Ein sonniger Tag mit dir   \n",
      "88   deef - Ein sonniger Tag mit dir   \n",
      "4                     Bam Bam - Hi-Q   \n",
      "101  deef - Ein sonniger Tag mit dir   \n",
      "\n",
      "                                          instrumental      score      CLAP  \\\n",
      "99                      The Cute Lepers - Young Hearts  41.768393 -0.029072   \n",
      "100                      The Embarrassment - Patio Set  42.689537  0.762072   \n",
      "97                                      Shearer - Itch  43.169456  0.172785   \n",
      "16                       The Embarrassment - Patio Set  43.298864  0.382526   \n",
      "86                 Bessie Smith - My Sweetie Went Away  43.388306  0.751926   \n",
      "102           The Oranges Band - Ride the Nuclear Wave  43.574736  0.831918   \n",
      "89                 Dragon Or Emperor - Part of Me Says  43.637199  0.130112   \n",
      "88                     deef - Ein sonniger Tag mit dir  43.682678  1.000000   \n",
      "4                      deef - Ein sonniger Tag mit dir  43.764599  0.459481   \n",
      "101  The J Arthur Keenes Band - The Boring World of...  44.107370 -0.007107   \n",
      "\n",
      "     normalized_score  normalized_CLAP      MERT  normalized_MERT  \n",
      "99          -3.062342        -1.278994 -0.141884        -0.241559  \n",
      "100         -2.758955         1.393597 -0.188265        -0.322586  \n",
      "97          -2.600889        -0.597093  0.588988         1.035249  \n",
      "16          -2.558267         0.111440 -0.873296        -1.519312  \n",
      "86          -2.528809         1.359323 -0.025149        -0.037627  \n",
      "102         -2.467406         1.629546 -0.263851        -0.454632  \n",
      "89          -2.446834        -0.741249  0.186948         0.332899  \n",
      "88          -2.431855         2.197351 -0.697249        -1.211763  \n",
      "4           -2.404873         0.371404  0.048193         0.090498  \n",
      "101         -2.291979        -1.204792  0.630012         1.106918  \n"
     ]
    }
   ],
   "source": [
    "# top 10 et bottom 10 des scores\n",
    "top10 = cocola_scores_df.sort_values(by=\"score\", ascending=False).head(10)\n",
    "bottom10 = cocola_scores_df.sort_values(by=\"score\", ascending=True).head(10)\n",
    "\n",
    "# Afficher les résultats\n",
    "print(\"Top 10 des scores :\")\n",
    "print(top10)\n",
    "print(\"\\nBottom 10 des scores :\")\n",
    "print(bottom10)"
   ]
  }
 ],
 "metadata": {
  "kernelspec": {
   "display_name": "base",
   "language": "python",
   "name": "python3"
  },
  "language_info": {
   "codemirror_mode": {
    "name": "ipython",
    "version": 3
   },
   "file_extension": ".py",
   "mimetype": "text/x-python",
   "name": "python",
   "nbconvert_exporter": "python",
   "pygments_lexer": "ipython3",
   "version": "3.12.7"
  }
 },
 "nbformat": 4,
 "nbformat_minor": 2
}
